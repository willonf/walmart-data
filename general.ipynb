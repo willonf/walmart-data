{
 "cells": [
  {
   "cell_type": "code",
   "execution_count": 1,
   "id": "initial_id",
   "metadata": {
    "collapsed": true,
    "ExecuteTime": {
     "end_time": "2024-03-01T16:33:13.694662Z",
     "start_time": "2024-03-01T16:33:13.297871Z"
    }
   },
   "outputs": [],
   "source": [
    "from pyspark.sql import SparkSession, functions as f"
   ]
  },
  {
   "cell_type": "code",
   "outputs": [],
   "source": [
    "# spark = SparkSession.builder.appName('walmart-data').master('spark://spark-master:7077').getOrCreate()\n",
    "spark = SparkSession.builder.appName('walmart-data').master('local').getOrCreate()"
   ],
   "metadata": {
    "collapsed": false,
    "ExecuteTime": {
     "end_time": "2024-03-01T16:34:08.155456Z",
     "start_time": "2024-03-01T16:34:05.309768Z"
    }
   },
   "id": "af42fa8092ac41a9",
   "execution_count": 2
  },
  {
   "cell_type": "code",
   "outputs": [],
   "source": [
    "product_schema = 'product_id INT, product_name STRING, aisle_id INT, department_id INT'\n",
    "\n",
    "order_product_schema = 'order_id INT, product_id INT, add_to_cart_order INT, reordered INT'"
   ],
   "metadata": {
    "collapsed": false,
    "ExecuteTime": {
     "end_time": "2024-03-01T16:48:29.807122Z",
     "start_time": "2024-03-01T16:48:29.803579Z"
    }
   },
   "id": "33d96c2f0cd985d8",
   "execution_count": 33
  },
  {
   "cell_type": "code",
   "outputs": [
    {
     "name": "stdout",
     "output_type": "stream",
     "text": [
      "+----------+--------------------+--------+-------------+\n",
      "|product_id|        product_name|aisle_id|department_id|\n",
      "+----------+--------------------+--------+-------------+\n",
      "|         1|Chocolate Sandwic...|      61|           19|\n",
      "|         2|    All-Seasons Salt|     104|           13|\n",
      "|         3|Robust Golden Uns...|      94|            7|\n",
      "|         4|Smart Ones Classi...|      38|            1|\n",
      "|         5|Green Chile Anyti...|       5|           13|\n",
      "+----------+--------------------+--------+-------------+\n"
     ]
    }
   ],
   "source": [
    "products_df = spark.read.option(\"header\", True).schema(product_schema).csv('./datasets/products.csv')\n",
    "products_df.show(5)"
   ],
   "metadata": {
    "collapsed": false,
    "ExecuteTime": {
     "end_time": "2024-03-01T16:47:01.598139Z",
     "start_time": "2024-03-01T16:47:01.473688Z"
    }
   },
   "id": "20b9c8b3faeb9006",
   "execution_count": 29
  },
  {
   "cell_type": "code",
   "outputs": [
    {
     "name": "stdout",
     "output_type": "stream",
     "text": [
      "root\n",
      " |-- product_id: integer (nullable = true)\n",
      " |-- product_name: string (nullable = true)\n",
      " |-- aisle_id: integer (nullable = true)\n",
      " |-- department_id: integer (nullable = true)\n"
     ]
    }
   ],
   "source": [
    "products_df.printSchema()"
   ],
   "metadata": {
    "collapsed": false,
    "ExecuteTime": {
     "end_time": "2024-03-01T16:47:18.455441Z",
     "start_time": "2024-03-01T16:47:18.450460Z"
    }
   },
   "id": "32c27c6aced6927b",
   "execution_count": 30
  },
  {
   "cell_type": "code",
   "outputs": [
    {
     "name": "stdout",
     "output_type": "stream",
     "text": [
      "+----------+\n",
      "|product_id|\n",
      "+----------+\n",
      "|         1|\n",
      "|         2|\n",
      "|         3|\n",
      "|         4|\n",
      "|         5|\n",
      "+----------+\n"
     ]
    }
   ],
   "source": [
    "products_df = products_df.select('product_id')  # Items set\n",
    "products_df.show(5)"
   ],
   "metadata": {
    "collapsed": false,
    "ExecuteTime": {
     "end_time": "2024-03-01T16:47:33.619515Z",
     "start_time": "2024-03-01T16:47:33.549299Z"
    }
   },
   "id": "47cf6a378fd1dcaf",
   "execution_count": 31
  },
  {
   "cell_type": "code",
   "outputs": [
    {
     "data": {
      "text/plain": "49688"
     },
     "execution_count": 32,
     "metadata": {},
     "output_type": "execute_result"
    }
   ],
   "source": [
    "products_df.count()"
   ],
   "metadata": {
    "collapsed": false,
    "ExecuteTime": {
     "end_time": "2024-03-01T16:47:38.837734Z",
     "start_time": "2024-03-01T16:47:38.744838Z"
    }
   },
   "id": "6de8f33159ff012c",
   "execution_count": 32
  },
  {
   "cell_type": "code",
   "outputs": [
    {
     "name": "stdout",
     "output_type": "stream",
     "text": [
      "+--------+----------+-----------------+---------+\n",
      "|order_id|product_id|add_to_cart_order|reordered|\n",
      "+--------+----------+-----------------+---------+\n",
      "|       2|     33120|                1|        1|\n",
      "|       2|     28985|                2|        1|\n",
      "|       2|      9327|                3|        0|\n",
      "|       2|     45918|                4|        1|\n",
      "|       2|     30035|                5|        0|\n",
      "+--------+----------+-----------------+---------+\n"
     ]
    }
   ],
   "source": [
    "order_products_df = spark.read.option(\"header\", True).schema(order_product_schema).csv('./datasets/order_products__prior.csv')\n",
    "order_products_df.show(5)"
   ],
   "metadata": {
    "collapsed": false,
    "ExecuteTime": {
     "end_time": "2024-03-01T17:07:16.296383Z",
     "start_time": "2024-03-01T17:07:16.229261Z"
    }
   },
   "id": "8707190c76f2a73e",
   "execution_count": 55
  },
  {
   "cell_type": "code",
   "outputs": [
    {
     "name": "stdout",
     "output_type": "stream",
     "text": [
      "root\n",
      " |-- order_id: integer (nullable = true)\n",
      " |-- product_id: integer (nullable = true)\n",
      " |-- add_to_cart_order: integer (nullable = true)\n",
      " |-- reordered: integer (nullable = true)\n"
     ]
    }
   ],
   "source": [
    "order_products_df.printSchema()"
   ],
   "metadata": {
    "collapsed": false,
    "ExecuteTime": {
     "end_time": "2024-03-01T16:50:18.340454Z",
     "start_time": "2024-03-01T16:50:18.336568Z"
    }
   },
   "id": "f38437cca9984988",
   "execution_count": 42
  },
  {
   "cell_type": "code",
   "outputs": [
    {
     "name": "stdout",
     "output_type": "stream",
     "text": [
      "+--------+----------+\n",
      "|order_id|product_id|\n",
      "+--------+----------+\n",
      "|       2|     33120|\n",
      "|       2|     28985|\n",
      "|       2|      9327|\n",
      "|       2|     45918|\n",
      "|       2|     30035|\n",
      "+--------+----------+\n"
     ]
    }
   ],
   "source": [
    "order_products_df = order_products_df.drop(\"add_to_cart_order\", \"reordered\")\n",
    "order_products_df.show(5)"
   ],
   "metadata": {
    "collapsed": false,
    "ExecuteTime": {
     "end_time": "2024-03-01T17:07:18.131323Z",
     "start_time": "2024-03-01T17:07:18.075895Z"
    }
   },
   "id": "4a034ea3b8ef7ec",
   "execution_count": 56
  },
  {
   "cell_type": "code",
   "outputs": [
    {
     "data": {
      "text/plain": "150792"
     },
     "execution_count": 44,
     "metadata": {},
     "output_type": "execute_result"
    }
   ],
   "source": [
    "order_products_df.count()"
   ],
   "metadata": {
    "collapsed": false,
    "ExecuteTime": {
     "end_time": "2024-03-01T16:50:22.200688Z",
     "start_time": "2024-03-01T16:50:22.090721Z"
    }
   },
   "id": "4368b93f3d6d221a",
   "execution_count": 44
  },
  {
   "cell_type": "code",
   "outputs": [],
   "source": [
    "order_products_df = order_products_df.groupBy('order_id').agg(f.collect_set('product_id').alias('items_transactions'))"
   ],
   "metadata": {
    "collapsed": false,
    "ExecuteTime": {
     "end_time": "2024-03-01T17:07:19.996957Z",
     "start_time": "2024-03-01T17:07:19.983921Z"
    }
   },
   "id": "230c79daf49995f3",
   "execution_count": 57
  },
  {
   "cell_type": "code",
   "outputs": [
    {
     "name": "stdout",
     "output_type": "stream",
     "text": [
      "+--------+------------------------------------------------------------------------------------------------------------------------------------------------------------------------------------------+\n",
      "|order_id|items_transactions                                                                                                                                                                        |\n",
      "+--------+------------------------------------------------------------------------------------------------------------------------------------------------------------------------------------------+\n",
      "|2       |[17794, 1819, 40141, 9327, 28985, 45918, 30035, 33120, 43668]                                                                                                                             |\n",
      "|3       |[32665, 33754, 17461, 17704, 21903, 17668, 24838, 46667]                                                                                                                                  |\n",
      "|4       |[32645, 46842, 21351, 17616, 27761, 26434, 34862, 39758, 22598, 25146, 40285, 41276, 10054]                                                                                               |\n",
      "|5       |[48370, 38693, 45698, 41176, 47209, 27966, 6348, 37011, 23909, 24773, 48002, 13245, 46522, 12962, 48366, 47329, 6184, 48825, 9633, 18569, 20914, 8479, 15005, 27360, 13176, 40878]        |\n",
      "|6       |[40462, 41897, 15873]                                                                                                                                                                     |\n",
      "|7       |[46802, 34050]                                                                                                                                                                            |\n",
      "|8       |[23423]                                                                                                                                                                                   |\n",
      "|9       |[31506, 23288, 14992, 18362, 11182, 2014, 432, 29193, 34203, 44533, 3990, 21405, 14183, 27366, 47890]                                                                                     |\n",
      "|10      |[47766, 14992, 25720, 3464, 31717, 4605, 24852, 22122, 49235, 1529, 26842, 4796, 21137, 27156, 34134]                                                                                     |\n",
      "|11      |[31506, 5994, 1313, 30162, 27085]                                                                                                                                                         |\n",
      "|12      |[23390, 25213, 11175, 37215, 38050, 43772, 15221, 29471, 34335, 3164, 30597, 43511, 26910, 37886, 38888]                                                                                  |\n",
      "|13      |[44635, 35419, 25783, 23020, 33198, 17330, 27407, 41290, 196, 26878, 36086, 3800, 25952]                                                                                                  |\n",
      "|14      |[41890, 45066, 20995, 8575, 23032, 39475, 27845, 2452, 10096, 162, 20392]                                                                                                                 |\n",
      "|15      |[21195, 2996, 7461, 19660, 32463]                                                                                                                                                         |\n",
      "|16      |[45437, 9755, 25466]                                                                                                                                                                      |\n",
      "|18      |[47766, 34969, 27966, 46979, 32018, 35547, 48745, 17568, 5212, 23339, 46969, 45495, 38985, 4656, 44632, 33279, 2116, 1057, 4802, 9848, 36011, 1000, 7308, 7948, 28934, 8021, 26648, 27644]|\n",
      "|19      |[42265, 41540, 24838]                                                                                                                                                                     |\n",
      "|20      |[35430, 5112, 27605, 33452, 47485, 24852, 42633, 7419]                                                                                                                                    |\n",
      "|21      |[33106, 31478, 25718, 4149, 5009]                                                                                                                                                         |\n",
      "|22      |[31268, 23341, 39993, 21410, 24852, 46941, 22754, 23909, 46979, 41273, 19068, 17341, 40593, 28993]                                                                                        |\n",
      "+--------+------------------------------------------------------------------------------------------------------------------------------------------------------------------------------------------+\n"
     ]
    }
   ],
   "source": [
    "order_products_df.show(truncate=False)  # Transactions"
   ],
   "metadata": {
    "collapsed": false,
    "ExecuteTime": {
     "end_time": "2024-03-01T17:07:23.873923Z",
     "start_time": "2024-03-01T17:07:23.279408Z"
    }
   },
   "id": "48701a4ee3ff2dec",
   "execution_count": 58
  },
  {
   "cell_type": "code",
   "outputs": [
    {
     "ename": "PySparkTypeError",
     "evalue": "[NOT_ITERABLE] Column is not iterable.",
     "output_type": "error",
     "traceback": [
      "\u001B[0;31m---------------------------------------------------------------------------\u001B[0m",
      "\u001B[0;31mPySparkTypeError\u001B[0m                          Traceback (most recent call last)",
      "Cell \u001B[0;32mIn[50], line 1\u001B[0m\n\u001B[0;32m----> 1\u001B[0m \u001B[43mproducts_df\u001B[49m\u001B[38;5;241;43m.\u001B[39;49m\u001B[43mwithColumnRenamed\u001B[49m\u001B[43m(\u001B[49m\u001B[38;5;124;43m'\u001B[39;49m\u001B[38;5;124;43mfrequency\u001B[39;49m\u001B[38;5;124;43m'\u001B[39;49m\u001B[43m,\u001B[49m\u001B[43m \u001B[49m\u001B[43mf\u001B[49m\u001B[38;5;241;43m.\u001B[39;49m\u001B[43marray_contains\u001B[49m\u001B[43m(\u001B[49m\u001B[43morder_products_df\u001B[49m\u001B[38;5;241;43m.\u001B[39;49m\u001B[43mitems_transactions\u001B[49m\u001B[43m,\u001B[49m\u001B[43m \u001B[49m\u001B[43mproducts_df\u001B[49m\u001B[38;5;241;43m.\u001B[39;49m\u001B[43mproduct_id\u001B[49m\u001B[43m)\u001B[49m\u001B[43m)\u001B[49m\u001B[38;5;241m.\u001B[39mshow()\n",
      "File \u001B[0;32m/usr/local/spark/python/pyspark/sql/dataframe.py:5204\u001B[0m, in \u001B[0;36mDataFrame.withColumnRenamed\u001B[0;34m(self, existing, new)\u001B[0m\n\u001B[1;32m   5172\u001B[0m \u001B[38;5;28;01mdef\u001B[39;00m \u001B[38;5;21mwithColumnRenamed\u001B[39m(\u001B[38;5;28mself\u001B[39m, existing: \u001B[38;5;28mstr\u001B[39m, new: \u001B[38;5;28mstr\u001B[39m) \u001B[38;5;241m-\u001B[39m\u001B[38;5;241m>\u001B[39m \u001B[38;5;124m\"\u001B[39m\u001B[38;5;124mDataFrame\u001B[39m\u001B[38;5;124m\"\u001B[39m:\n\u001B[1;32m   5173\u001B[0m \u001B[38;5;250m    \u001B[39m\u001B[38;5;124;03m\"\"\"Returns a new :class:`DataFrame` by renaming an existing column.\u001B[39;00m\n\u001B[1;32m   5174\u001B[0m \u001B[38;5;124;03m    This is a no-op if the schema doesn't contain the given column name.\u001B[39;00m\n\u001B[1;32m   5175\u001B[0m \n\u001B[0;32m   (...)\u001B[0m\n\u001B[1;32m   5202\u001B[0m \u001B[38;5;124;03m    +----+-----+\u001B[39;00m\n\u001B[1;32m   5203\u001B[0m \u001B[38;5;124;03m    \"\"\"\u001B[39;00m\n\u001B[0;32m-> 5204\u001B[0m     \u001B[38;5;28;01mreturn\u001B[39;00m DataFrame(\u001B[38;5;28;43mself\u001B[39;49m\u001B[38;5;241;43m.\u001B[39;49m\u001B[43m_jdf\u001B[49m\u001B[38;5;241;43m.\u001B[39;49m\u001B[43mwithColumnRenamed\u001B[49m\u001B[43m(\u001B[49m\u001B[43mexisting\u001B[49m\u001B[43m,\u001B[49m\u001B[43m \u001B[49m\u001B[43mnew\u001B[49m\u001B[43m)\u001B[49m, \u001B[38;5;28mself\u001B[39m\u001B[38;5;241m.\u001B[39msparkSession)\n",
      "File \u001B[0;32m/usr/local/spark/python/lib/py4j-0.10.9.7-src.zip/py4j/java_gateway.py:1314\u001B[0m, in \u001B[0;36mJavaMember.__call__\u001B[0;34m(self, *args)\u001B[0m\n\u001B[1;32m   1313\u001B[0m \u001B[38;5;28;01mdef\u001B[39;00m \u001B[38;5;21m__call__\u001B[39m(\u001B[38;5;28mself\u001B[39m, \u001B[38;5;241m*\u001B[39margs):\n\u001B[0;32m-> 1314\u001B[0m     args_command, temp_args \u001B[38;5;241m=\u001B[39m \u001B[38;5;28;43mself\u001B[39;49m\u001B[38;5;241;43m.\u001B[39;49m\u001B[43m_build_args\u001B[49m\u001B[43m(\u001B[49m\u001B[38;5;241;43m*\u001B[39;49m\u001B[43margs\u001B[49m\u001B[43m)\u001B[49m\n\u001B[1;32m   1316\u001B[0m     command \u001B[38;5;241m=\u001B[39m proto\u001B[38;5;241m.\u001B[39mCALL_COMMAND_NAME \u001B[38;5;241m+\u001B[39m\\\n\u001B[1;32m   1317\u001B[0m         \u001B[38;5;28mself\u001B[39m\u001B[38;5;241m.\u001B[39mcommand_header \u001B[38;5;241m+\u001B[39m\\\n\u001B[1;32m   1318\u001B[0m         args_command \u001B[38;5;241m+\u001B[39m\\\n\u001B[1;32m   1319\u001B[0m         proto\u001B[38;5;241m.\u001B[39mEND_COMMAND_PART\n\u001B[1;32m   1321\u001B[0m     answer \u001B[38;5;241m=\u001B[39m \u001B[38;5;28mself\u001B[39m\u001B[38;5;241m.\u001B[39mgateway_client\u001B[38;5;241m.\u001B[39msend_command(command)\n",
      "File \u001B[0;32m/usr/local/spark/python/lib/py4j-0.10.9.7-src.zip/py4j/java_gateway.py:1277\u001B[0m, in \u001B[0;36mJavaMember._build_args\u001B[0;34m(self, *args)\u001B[0m\n\u001B[1;32m   1275\u001B[0m \u001B[38;5;28;01mdef\u001B[39;00m \u001B[38;5;21m_build_args\u001B[39m(\u001B[38;5;28mself\u001B[39m, \u001B[38;5;241m*\u001B[39margs):\n\u001B[1;32m   1276\u001B[0m     \u001B[38;5;28;01mif\u001B[39;00m \u001B[38;5;28mself\u001B[39m\u001B[38;5;241m.\u001B[39mconverters \u001B[38;5;129;01mis\u001B[39;00m \u001B[38;5;129;01mnot\u001B[39;00m \u001B[38;5;28;01mNone\u001B[39;00m \u001B[38;5;129;01mand\u001B[39;00m \u001B[38;5;28mlen\u001B[39m(\u001B[38;5;28mself\u001B[39m\u001B[38;5;241m.\u001B[39mconverters) \u001B[38;5;241m>\u001B[39m \u001B[38;5;241m0\u001B[39m:\n\u001B[0;32m-> 1277\u001B[0m         (new_args, temp_args) \u001B[38;5;241m=\u001B[39m \u001B[38;5;28;43mself\u001B[39;49m\u001B[38;5;241;43m.\u001B[39;49m\u001B[43m_get_args\u001B[49m\u001B[43m(\u001B[49m\u001B[43margs\u001B[49m\u001B[43m)\u001B[49m\n\u001B[1;32m   1278\u001B[0m     \u001B[38;5;28;01melse\u001B[39;00m:\n\u001B[1;32m   1279\u001B[0m         new_args \u001B[38;5;241m=\u001B[39m args\n",
      "File \u001B[0;32m/usr/local/spark/python/lib/py4j-0.10.9.7-src.zip/py4j/java_gateway.py:1264\u001B[0m, in \u001B[0;36mJavaMember._get_args\u001B[0;34m(self, args)\u001B[0m\n\u001B[1;32m   1262\u001B[0m \u001B[38;5;28;01mfor\u001B[39;00m converter \u001B[38;5;129;01min\u001B[39;00m \u001B[38;5;28mself\u001B[39m\u001B[38;5;241m.\u001B[39mgateway_client\u001B[38;5;241m.\u001B[39mconverters:\n\u001B[1;32m   1263\u001B[0m     \u001B[38;5;28;01mif\u001B[39;00m converter\u001B[38;5;241m.\u001B[39mcan_convert(arg):\n\u001B[0;32m-> 1264\u001B[0m         temp_arg \u001B[38;5;241m=\u001B[39m \u001B[43mconverter\u001B[49m\u001B[38;5;241;43m.\u001B[39;49m\u001B[43mconvert\u001B[49m\u001B[43m(\u001B[49m\u001B[43marg\u001B[49m\u001B[43m,\u001B[49m\u001B[43m \u001B[49m\u001B[38;5;28;43mself\u001B[39;49m\u001B[38;5;241;43m.\u001B[39;49m\u001B[43mgateway_client\u001B[49m\u001B[43m)\u001B[49m\n\u001B[1;32m   1265\u001B[0m         temp_args\u001B[38;5;241m.\u001B[39mappend(temp_arg)\n\u001B[1;32m   1266\u001B[0m         new_args\u001B[38;5;241m.\u001B[39mappend(temp_arg)\n",
      "File \u001B[0;32m/usr/local/spark/python/lib/py4j-0.10.9.7-src.zip/py4j/java_collections.py:510\u001B[0m, in \u001B[0;36mListConverter.convert\u001B[0;34m(self, object, gateway_client)\u001B[0m\n\u001B[1;32m    508\u001B[0m ArrayList \u001B[38;5;241m=\u001B[39m JavaClass(\u001B[38;5;124m\"\u001B[39m\u001B[38;5;124mjava.util.ArrayList\u001B[39m\u001B[38;5;124m\"\u001B[39m, gateway_client)\n\u001B[1;32m    509\u001B[0m java_list \u001B[38;5;241m=\u001B[39m ArrayList()\n\u001B[0;32m--> 510\u001B[0m \u001B[38;5;28;01mfor\u001B[39;00m element \u001B[38;5;129;01min\u001B[39;00m \u001B[38;5;28mobject\u001B[39m:\n\u001B[1;32m    511\u001B[0m     java_list\u001B[38;5;241m.\u001B[39madd(element)\n\u001B[1;32m    512\u001B[0m \u001B[38;5;28;01mreturn\u001B[39;00m java_list\n",
      "File \u001B[0;32m/usr/local/spark/python/pyspark/sql/column.py:718\u001B[0m, in \u001B[0;36mColumn.__iter__\u001B[0;34m(self)\u001B[0m\n\u001B[1;32m    717\u001B[0m \u001B[38;5;28;01mdef\u001B[39;00m \u001B[38;5;21m__iter__\u001B[39m(\u001B[38;5;28mself\u001B[39m) \u001B[38;5;241m-\u001B[39m\u001B[38;5;241m>\u001B[39m \u001B[38;5;28;01mNone\u001B[39;00m:\n\u001B[0;32m--> 718\u001B[0m     \u001B[38;5;28;01mraise\u001B[39;00m PySparkTypeError(\n\u001B[1;32m    719\u001B[0m         error_class\u001B[38;5;241m=\u001B[39m\u001B[38;5;124m\"\u001B[39m\u001B[38;5;124mNOT_ITERABLE\u001B[39m\u001B[38;5;124m\"\u001B[39m, message_parameters\u001B[38;5;241m=\u001B[39m{\u001B[38;5;124m\"\u001B[39m\u001B[38;5;124mobjectName\u001B[39m\u001B[38;5;124m\"\u001B[39m: \u001B[38;5;124m\"\u001B[39m\u001B[38;5;124mColumn\u001B[39m\u001B[38;5;124m\"\u001B[39m}\n\u001B[1;32m    720\u001B[0m     )\n",
      "\u001B[0;31mPySparkTypeError\u001B[0m: [NOT_ITERABLE] Column is not iterable."
     ]
    }
   ],
   "source": [
    "products_df.withColumnRenamed('frequency', f.array_contains(order_products_df.items_transactions, products_df.product_id)).show()"
   ],
   "metadata": {
    "collapsed": false,
    "ExecuteTime": {
     "end_time": "2024-03-01T17:02:13.483955Z",
     "start_time": "2024-03-01T17:02:13.346949Z"
    }
   },
   "id": "af2e15a1c522b7bc",
   "execution_count": 50
  },
  {
   "cell_type": "code",
   "outputs": [],
   "source": [
    "min_support = 0.3\n",
    "transactions_qty = order_products_df.count()\n",
    "\n",
    "products_df = products_df.withColumnRenamed('frequency', )"
   ],
   "metadata": {
    "collapsed": false
   },
   "id": "b84f0ba745b77766"
  }
 ],
 "metadata": {
  "kernelspec": {
   "display_name": "Python 3",
   "language": "python",
   "name": "python3"
  },
  "language_info": {
   "codemirror_mode": {
    "name": "ipython",
    "version": 2
   },
   "file_extension": ".py",
   "mimetype": "text/x-python",
   "name": "python",
   "nbconvert_exporter": "python",
   "pygments_lexer": "ipython2",
   "version": "2.7.6"
  }
 },
 "nbformat": 4,
 "nbformat_minor": 5
}
