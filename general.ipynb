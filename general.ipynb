{
 "cells": [
  {
   "cell_type": "code",
   "execution_count": 29,
   "id": "initial_id",
   "metadata": {
    "collapsed": true,
    "ExecuteTime": {
     "end_time": "2024-03-04T02:31:18.438609Z",
     "start_time": "2024-03-04T02:31:18.436544Z"
    }
   },
   "outputs": [],
   "source": [
    "from pyspark.sql import SparkSession, functions as f\n",
    "from pyspark.sql.functions import col\n",
    "from itertools import combinations"
   ]
  },
  {
   "cell_type": "code",
   "outputs": [],
   "source": [
    "# spark = SparkSession.builder.appName('walmart-data').master('spark://spark-master:7077').getOrCreate()\n",
    "spark = SparkSession.builder.appName('walmart-data').master('local').getOrCreate()"
   ],
   "metadata": {
    "collapsed": false,
    "ExecuteTime": {
     "end_time": "2024-03-04T02:31:18.442329Z",
     "start_time": "2024-03-04T02:31:18.439571Z"
    }
   },
   "id": "af42fa8092ac41a9",
   "execution_count": 30
  },
  {
   "cell_type": "code",
   "outputs": [],
   "source": [
    "product_schema = 'product_id INT, product_name STRING, aisle_id INT, department_id INT'\n",
    "\n",
    "order_product_schema = 'order_id INT, product_id INT, add_to_cart_order INT, reordered INT'"
   ],
   "metadata": {
    "collapsed": false,
    "ExecuteTime": {
     "end_time": "2024-03-04T02:31:18.445049Z",
     "start_time": "2024-03-04T02:31:18.443109Z"
    }
   },
   "id": "33d96c2f0cd985d8",
   "execution_count": 31
  },
  {
   "cell_type": "code",
   "outputs": [
    {
     "name": "stdout",
     "output_type": "stream",
     "text": [
      "+----------+\n",
      "|product_id|\n",
      "+----------+\n",
      "|         1|\n",
      "|         2|\n",
      "|         3|\n",
      "|         4|\n",
      "|         5|\n",
      "+----------+\n"
     ]
    }
   ],
   "source": [
    "df_products = spark.read.option(\"header\", True).schema(product_schema).csv('./datasets/products.csv').select(\n",
    "    'product_id')  # Items set\n",
    "df_products.show(5)"
   ],
   "metadata": {
    "collapsed": false,
    "ExecuteTime": {
     "end_time": "2024-03-04T02:31:18.492224Z",
     "start_time": "2024-03-04T02:31:18.445654Z"
    }
   },
   "id": "20b9c8b3faeb9006",
   "execution_count": 32
  },
  {
   "cell_type": "code",
   "outputs": [
    {
     "data": {
      "text/plain": "49688"
     },
     "execution_count": 33,
     "metadata": {},
     "output_type": "execute_result"
    }
   ],
   "source": [
    "products_qty = df_products.count()\n",
    "products_qty"
   ],
   "metadata": {
    "collapsed": false,
    "ExecuteTime": {
     "end_time": "2024-03-04T02:31:18.566318Z",
     "start_time": "2024-03-04T02:31:18.492915Z"
    }
   },
   "id": "8e0dc6553b97004e",
   "execution_count": 33
  },
  {
   "cell_type": "code",
   "outputs": [],
   "source": [],
   "metadata": {
    "collapsed": false,
    "ExecuteTime": {
     "end_time": "2024-03-04T02:31:18.569031Z",
     "start_time": "2024-03-04T02:31:18.567644Z"
    }
   },
   "id": "36946cebcd4c149b",
   "execution_count": 33
  },
  {
   "cell_type": "code",
   "outputs": [
    {
     "data": {
      "text/plain": "Column<'product_id[0][0]'>"
     },
     "execution_count": 38,
     "metadata": {},
     "output_type": "execute_result"
    }
   ],
   "source": [
    "def generate_combinations(row):\n",
    "    print(row)\n",
    "    id_list = row[0]\n",
    "    return combinations(id_list, row[1])\n",
    "\n",
    "# df_products.select(\"product_id\").rdd.flatMap(lambda row: combinations(row, 2)).toDF(['id1', 'id2']).show()\n",
    "df_products[\n",
    "# result_df = combinations_rdd.toDF()"
   ],
   "metadata": {
    "collapsed": false,
    "ExecuteTime": {
     "end_time": "2024-03-04T02:31:44.106250Z",
     "start_time": "2024-03-04T02:31:44.101685Z"
    }
   },
   "id": "a1af5df178feadc1",
   "execution_count": 38
  },
  {
   "cell_type": "code",
   "outputs": [],
   "source": [
    "df_order_products = spark.read.option(\"header\", True).schema(order_product_schema).csv(\n",
    "    './datasets/order_products__prior.csv').drop(\"add_to_cart_order\", \"reordered\").dropDuplicates()\n",
    "df_order_products.show(5)"
   ],
   "metadata": {
    "collapsed": false,
    "ExecuteTime": {
     "end_time": "2024-03-04T02:31:18.735521Z",
     "start_time": "2024-03-04T02:31:18.735437Z"
    }
   },
   "id": "8707190c76f2a73e",
   "execution_count": null
  },
  {
   "cell_type": "code",
   "outputs": [],
   "source": [
    "df_transactions = (df_order_products\n",
    "                   .groupBy('order_id')\n",
    "                   .agg(f.collect_set('product_id').alias('items'))\n",
    "                   .withColumnRenamed('order_id', 'transaction_id'))\n",
    "df_transactions.show(5, truncate=False)"
   ],
   "metadata": {
    "collapsed": false
   },
   "id": "230c79daf49995f3",
   "execution_count": null
  },
  {
   "cell_type": "code",
   "outputs": [],
   "source": [
    "transactions_qty = df_transactions.count()\n",
    "transactions_qty"
   ],
   "metadata": {
    "collapsed": false
   },
   "id": "2278f6fbd6ebe378",
   "execution_count": null
  },
  {
   "cell_type": "code",
   "outputs": [],
   "source": [
    "min_support = 0.025"
   ],
   "metadata": {
    "collapsed": false
   },
   "id": "b84f0ba745b77766",
   "execution_count": null
  },
  {
   "cell_type": "code",
   "outputs": [],
   "source": [
    "df_frequent_items = (df_order_products.\n",
    "                     groupBy('product_id')\n",
    "                     .count()\n",
    "                     .withColumn('count', f.col('count') / transactions_qty)\n",
    "                     .withColumnRenamed('count', 'support')\n",
    "                     .orderBy(f.col('product_id').asc())\n",
    "                     .filter(f.col('support') >= min_support))\n",
    "df_frequent_items.show(10)"
   ],
   "metadata": {
    "collapsed": false
   },
   "id": "8dd78519a564fade",
   "execution_count": null
  },
  {
   "cell_type": "code",
   "outputs": [],
   "source": [],
   "metadata": {
    "collapsed": false
   },
   "id": "f5ebcba4b1ec0a14",
   "execution_count": null
  }
 ],
 "metadata": {
  "kernelspec": {
   "display_name": "Python 3",
   "language": "python",
   "name": "python3"
  },
  "language_info": {
   "codemirror_mode": {
    "name": "ipython",
    "version": 2
   },
   "file_extension": ".py",
   "mimetype": "text/x-python",
   "name": "python",
   "nbconvert_exporter": "python",
   "pygments_lexer": "ipython2",
   "version": "2.7.6"
  }
 },
 "nbformat": 4,
 "nbformat_minor": 5
}
